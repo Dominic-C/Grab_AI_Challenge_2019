{
 "cells": [
  {
   "cell_type": "markdown",
   "metadata": {
    "colab_type": "text",
    "id": "apZxIB88h0zm"
   },
   "source": [
    "# Import trained model\n",
    "Here, I import my trained model from google cloud storage and load it into the `model` variable.\n",
    "\n",
    "The same model can be found in this github repository. You may import the model however you wish and ignore the following section."
   ]
  },
  {
   "cell_type": "code",
   "execution_count": 2,
   "metadata": {
    "colab": {
     "base_uri": "https://localhost:8080/",
     "height": 71
    },
    "colab_type": "code",
    "id": "a_3ku3DmgeHF",
    "outputId": "37293d6a-db8e-43f7-ae9a-b386415e0e51"
   },
   "outputs": [
    {
     "name": "stdout",
     "output_type": "stream",
     "text": [
      "Copying gs://grab-ai-for-sea/grab_ai_safety_accel.h5...\n",
      "/ [1 files][  7.0 MiB/  7.0 MiB]                                                \n",
      "Operation completed over 1 objects/7.0 MiB.                                      \n"
     ]
    }
   ],
   "source": [
    "import pandas as pd\n",
    "\n",
    "from google.colab import auth\n",
    "auth.authenticate_user()\n",
    "\n",
    "project_id='My First Project'\n",
    "!gsutil cp -r gs://grab-ai-for-sea/grab_ai_safety_accel.h5 /content/ # use your own directory"
   ]
  },
  {
   "cell_type": "code",
   "execution_count": 3,
   "metadata": {
    "colab": {
     "base_uri": "https://localhost:8080/",
     "height": 323
    },
    "colab_type": "code",
    "id": "PQi8J-Zvhi_s",
    "outputId": "98155a1f-1817-48cb-96e3-e096956930b3"
   },
   "outputs": [
    {
     "name": "stderr",
     "output_type": "stream",
     "text": [
      "WARNING: Logging before flag parsing goes to stderr.\n",
      "W0616 07:43:49.197459 140593157326720 deprecation.py:506] From /usr/local/lib/python3.6/dist-packages/tensorflow/python/ops/init_ops.py:97: calling GlorotUniform.__init__ (from tensorflow.python.ops.init_ops) with dtype is deprecated and will be removed in a future version.\n",
      "Instructions for updating:\n",
      "Call initializer instance with the dtype argument instead of passing it to the constructor\n",
      "W0616 07:43:49.199216 140593157326720 deprecation.py:506] From /usr/local/lib/python3.6/dist-packages/tensorflow/python/ops/init_ops.py:1251: calling VarianceScaling.__init__ (from tensorflow.python.ops.init_ops) with dtype is deprecated and will be removed in a future version.\n",
      "Instructions for updating:\n",
      "Call initializer instance with the dtype argument instead of passing it to the constructor\n",
      "W0616 07:43:49.205774 140593157326720 deprecation.py:506] From /usr/local/lib/python3.6/dist-packages/tensorflow/python/ops/init_ops.py:97: calling Orthogonal.__init__ (from tensorflow.python.ops.init_ops) with dtype is deprecated and will be removed in a future version.\n",
      "Instructions for updating:\n",
      "Call initializer instance with the dtype argument instead of passing it to the constructor\n",
      "W0616 07:43:49.209116 140593157326720 deprecation.py:506] From /usr/local/lib/python3.6/dist-packages/tensorflow/python/ops/init_ops.py:97: calling Zeros.__init__ (from tensorflow.python.ops.init_ops) with dtype is deprecated and will be removed in a future version.\n",
      "Instructions for updating:\n",
      "Call initializer instance with the dtype argument instead of passing it to the constructor\n",
      "W0616 07:43:49.336096 140593157326720 deprecation.py:506] From /usr/local/lib/python3.6/dist-packages/tensorflow/python/ops/init_ops.py:97: calling Ones.__init__ (from tensorflow.python.ops.init_ops) with dtype is deprecated and will be removed in a future version.\n",
      "Instructions for updating:\n",
      "Call initializer instance with the dtype argument instead of passing it to the constructor\n"
     ]
    }
   ],
   "source": [
    "from tensorflow.keras.models import load_model\n",
    "\n",
    "model = load_model(\"/content/grab_ai_safety_accel.h5\") # if using google colab, ensure hardware acceleration is set to GPU"
   ]
  },
  {
   "cell_type": "markdown",
   "metadata": {
    "colab_type": "text",
    "id": "4qAU3RXLgDfK"
   },
   "source": [
    "# Import preprocessed data\n",
    "import the test data preprocessed by `preprocess_function.ipnyb`. Here, I use google cloud storage. You may use your own methods to import the preprocessed data."
   ]
  },
  {
   "cell_type": "code",
   "execution_count": 4,
   "metadata": {
    "colab": {
     "base_uri": "https://localhost:8080/",
     "height": 124
    },
    "colab_type": "code",
    "id": "UEO16LHGg5w5",
    "outputId": "d706c39e-03c9-4589-a6de-f6122a50a167"
   },
   "outputs": [
    {
     "name": "stdout",
     "output_type": "stream",
     "text": [
      "Copying gs://grab-ai-for-sea/testData_Sequences.pickle...\n",
      "- [1 files][114.5 MiB/114.5 MiB]                                                \n",
      "Operation completed over 1 objects/114.5 MiB.                                    \n",
      "Copying gs://grab-ai-for-sea/testData_Labels.pickle...\n",
      "/ [1 files][ 78.3 KiB/ 78.3 KiB]                                                \n",
      "Operation completed over 1 objects/78.3 KiB.                                     \n"
     ]
    }
   ],
   "source": [
    "!gsutil cp gs://grab-ai-for-sea/testData_Sequences.pickle /content/\n",
    "!gsutil cp gs://grab-ai-for-sea/testData_Labels.pickle /content/"
   ]
  },
  {
   "cell_type": "markdown",
   "metadata": {
    "colab_type": "text",
    "id": "zezUGBU8jAI7"
   },
   "source": [
    "# Make prediction\n",
    "Finally, make the prediction."
   ]
  },
  {
   "cell_type": "code",
   "execution_count": 15,
   "metadata": {
    "colab": {
     "base_uri": "https://localhost:8080/",
     "height": 53
    },
    "colab_type": "code",
    "id": "lvjdg8cXsWrW",
    "outputId": "5e324f29-db5d-4b72-bc02-00fc581df52a"
   },
   "outputs": [
    {
     "name": "stdout",
     "output_type": "stream",
     "text": [
      "Predicted label:  [0]\n",
      "Actual label:  1\n"
     ]
    }
   ],
   "source": [
    "import pickle\n",
    "import numpy as np\n",
    "\n",
    "index = 5\n",
    "\n",
    "# unpack pickles\n",
    "pickle_in = open(\"testData_Sequences.pickle\", \"rb\")\n",
    "data = pickle.load(pickle_in)\n",
    "\n",
    "pickle_in_y = open(\"testData_Labels.pickle\", \"rb\")\n",
    "labels = pickle.load(pickle_in_y)\n",
    "\n",
    "# making the prediction\n",
    "print(\"Predicted label: \", model.predict_classes(np.array([data[index]]))[0])\n",
    "print(\"Actual label: \", labels[index])"
   ]
  },
  {
   "cell_type": "code",
   "execution_count": 0,
   "metadata": {
    "colab": {},
    "colab_type": "code",
    "id": "cgzt2cNhQC_4"
   },
   "outputs": [],
   "source": []
  }
 ],
 "metadata": {
  "accelerator": "GPU",
  "colab": {
   "collapsed_sections": [],
   "name": "import_and_test_model.ipynb",
   "provenance": [],
   "version": "0.3.2"
  },
  "kernelspec": {
   "display_name": "Python 3",
   "language": "python",
   "name": "python3"
  },
  "language_info": {
   "codemirror_mode": {
    "name": "ipython",
    "version": 3
   },
   "file_extension": ".py",
   "mimetype": "text/x-python",
   "name": "python",
   "nbconvert_exporter": "python",
   "pygments_lexer": "ipython3",
   "version": "3.5.2"
  }
 },
 "nbformat": 4,
 "nbformat_minor": 1
}
